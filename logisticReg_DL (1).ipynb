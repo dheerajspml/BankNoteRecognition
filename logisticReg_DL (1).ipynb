{
  "nbformat": 4,
  "nbformat_minor": 0,
  "metadata": {
    "colab": {
      "name": "logisticReg_DL.ipynb",
      "provenance": [],
      "collapsed_sections": []
    },
    "kernelspec": {
      "display_name": "Python 3",
      "name": "python3"
    },
    "language_info": {
      "name": "python"
    }
  },
  "cells": [
    {
      "cell_type": "markdown",
      "metadata": {
        "id": "zRHd6xNWj-o1"
      },
      "source": [
        "**project Overview**\n",
        "This project is divided into 5 parts; they are:\n",
        "1.Banknote Classification Dataset\n",
        "2.buildings block of Neural Network \n",
        "3.Neural Network Learning(gradient descent algorithm)\n",
        "4.Final Model and Make Predictions\n",
        "5.Model performance Analysis with different learning parameters\n",
        "\n",
        "\n",
        "\n",
        "\n",
        "\n",
        "\n",
        "\n",
        "\n",
        "\n",
        "\n",
        "\n",
        "\n",
        "\n",
        "\n",
        "\n"
      ]
    },
    {
      "cell_type": "markdown",
      "metadata": {
        "id": "epQfzdl1mXNT"
      },
      "source": [
        "**Packages**\n",
        "let's import all the packages that  will need during this project."
      ]
    },
    {
      "cell_type": "code",
      "metadata": {
        "colab": {
          "base_uri": "https://localhost:8080/"
        },
        "id": "Yr43KtDzV7TF",
        "outputId": "7bf40847-96e2-4bc0-d93a-36e9f689888a"
      },
      "source": [
        "import pandas as pd\n",
        "import numpy as np\n",
        "import copy\n",
        "import matplotlib.pyplot as plt\n",
        "import scipy\n",
        "from sklearn.model_selection import train_test_split\n",
        "%matplotlib inline\n",
        "%load_ext autoreload\n",
        "%autoreload 2\n"
      ],
      "execution_count": null,
      "outputs": [
        {
          "output_type": "stream",
          "text": [
            "The autoreload extension is already loaded. To reload it, use:\n",
            "  %reload_ext autoreload\n"
          ],
          "name": "stdout"
        }
      ]
    },
    {
      "cell_type": "markdown",
      "metadata": {
        "id": "12iC5BRqoyrR"
      },
      "source": [
        "# **1.Banknote Classification Dataset**"
      ]
    },
    {
      "cell_type": "markdown",
      "metadata": {
        "id": "gghg3N31mu-x"
      },
      "source": [
        "**dataset:**\n",
        "The dataset contains 1,372 rows with 5 numeric variables. It is a classification problem with two classes (binary classification)."
      ]
    },
    {
      "cell_type": "code",
      "metadata": {
        "id": "hLTmJXlIh-nZ"
      },
      "source": [
        "\n",
        "url = 'https://raw.githubusercontent.com/jbrownlee/Datasets/master/banknote_authentication.csv'\n",
        "dataset=pd.read_csv(url,header=None)"
      ],
      "execution_count": null,
      "outputs": []
    },
    {
      "cell_type": "code",
      "metadata": {
        "colab": {
          "base_uri": "https://localhost:8080/",
          "height": 204
        },
        "id": "BBv5v6VXiIOx",
        "outputId": "5b578e1d-97b7-43a7-99c1-6732de459b32"
      },
      "source": [
        "#check first five data\n",
        "dataset.head()"
      ],
      "execution_count": null,
      "outputs": [
        {
          "output_type": "execute_result",
          "data": {
            "text/html": [
              "<div>\n",
              "<style scoped>\n",
              "    .dataframe tbody tr th:only-of-type {\n",
              "        vertical-align: middle;\n",
              "    }\n",
              "\n",
              "    .dataframe tbody tr th {\n",
              "        vertical-align: top;\n",
              "    }\n",
              "\n",
              "    .dataframe thead th {\n",
              "        text-align: right;\n",
              "    }\n",
              "</style>\n",
              "<table border=\"1\" class=\"dataframe\">\n",
              "  <thead>\n",
              "    <tr style=\"text-align: right;\">\n",
              "      <th></th>\n",
              "      <th>0</th>\n",
              "      <th>1</th>\n",
              "      <th>2</th>\n",
              "      <th>3</th>\n",
              "      <th>4</th>\n",
              "    </tr>\n",
              "  </thead>\n",
              "  <tbody>\n",
              "    <tr>\n",
              "      <th>0</th>\n",
              "      <td>3.62160</td>\n",
              "      <td>8.6661</td>\n",
              "      <td>-2.8073</td>\n",
              "      <td>-0.44699</td>\n",
              "      <td>0</td>\n",
              "    </tr>\n",
              "    <tr>\n",
              "      <th>1</th>\n",
              "      <td>4.54590</td>\n",
              "      <td>8.1674</td>\n",
              "      <td>-2.4586</td>\n",
              "      <td>-1.46210</td>\n",
              "      <td>0</td>\n",
              "    </tr>\n",
              "    <tr>\n",
              "      <th>2</th>\n",
              "      <td>3.86600</td>\n",
              "      <td>-2.6383</td>\n",
              "      <td>1.9242</td>\n",
              "      <td>0.10645</td>\n",
              "      <td>0</td>\n",
              "    </tr>\n",
              "    <tr>\n",
              "      <th>3</th>\n",
              "      <td>3.45660</td>\n",
              "      <td>9.5228</td>\n",
              "      <td>-4.0112</td>\n",
              "      <td>-3.59440</td>\n",
              "      <td>0</td>\n",
              "    </tr>\n",
              "    <tr>\n",
              "      <th>4</th>\n",
              "      <td>0.32924</td>\n",
              "      <td>-4.4552</td>\n",
              "      <td>4.5718</td>\n",
              "      <td>-0.98880</td>\n",
              "      <td>0</td>\n",
              "    </tr>\n",
              "  </tbody>\n",
              "</table>\n",
              "</div>"
            ],
            "text/plain": [
              "         0       1       2        3  4\n",
              "0  3.62160  8.6661 -2.8073 -0.44699  0\n",
              "1  4.54590  8.1674 -2.4586 -1.46210  0\n",
              "2  3.86600 -2.6383  1.9242  0.10645  0\n",
              "3  3.45660  9.5228 -4.0112 -3.59440  0\n",
              "4  0.32924 -4.4552  4.5718 -0.98880  0"
            ]
          },
          "metadata": {
            "tags": []
          },
          "execution_count": 43
        }
      ]
    },
    {
      "cell_type": "code",
      "metadata": {
        "colab": {
          "base_uri": "https://localhost:8080/",
          "height": 297
        },
        "id": "q2Z7eyVPiNUR",
        "outputId": "900561c1-8e2b-41e1-b277-4ef02d7b5298"
      },
      "source": [
        "#describe the data\n",
        "dataset.describe()"
      ],
      "execution_count": null,
      "outputs": [
        {
          "output_type": "execute_result",
          "data": {
            "text/html": [
              "<div>\n",
              "<style scoped>\n",
              "    .dataframe tbody tr th:only-of-type {\n",
              "        vertical-align: middle;\n",
              "    }\n",
              "\n",
              "    .dataframe tbody tr th {\n",
              "        vertical-align: top;\n",
              "    }\n",
              "\n",
              "    .dataframe thead th {\n",
              "        text-align: right;\n",
              "    }\n",
              "</style>\n",
              "<table border=\"1\" class=\"dataframe\">\n",
              "  <thead>\n",
              "    <tr style=\"text-align: right;\">\n",
              "      <th></th>\n",
              "      <th>0</th>\n",
              "      <th>1</th>\n",
              "      <th>2</th>\n",
              "      <th>3</th>\n",
              "      <th>4</th>\n",
              "    </tr>\n",
              "  </thead>\n",
              "  <tbody>\n",
              "    <tr>\n",
              "      <th>count</th>\n",
              "      <td>1372.000000</td>\n",
              "      <td>1372.000000</td>\n",
              "      <td>1372.000000</td>\n",
              "      <td>1372.000000</td>\n",
              "      <td>1372.000000</td>\n",
              "    </tr>\n",
              "    <tr>\n",
              "      <th>mean</th>\n",
              "      <td>0.433735</td>\n",
              "      <td>1.922353</td>\n",
              "      <td>1.397627</td>\n",
              "      <td>-1.191657</td>\n",
              "      <td>0.444606</td>\n",
              "    </tr>\n",
              "    <tr>\n",
              "      <th>std</th>\n",
              "      <td>2.842763</td>\n",
              "      <td>5.869047</td>\n",
              "      <td>4.310030</td>\n",
              "      <td>2.101013</td>\n",
              "      <td>0.497103</td>\n",
              "    </tr>\n",
              "    <tr>\n",
              "      <th>min</th>\n",
              "      <td>-7.042100</td>\n",
              "      <td>-13.773100</td>\n",
              "      <td>-5.286100</td>\n",
              "      <td>-8.548200</td>\n",
              "      <td>0.000000</td>\n",
              "    </tr>\n",
              "    <tr>\n",
              "      <th>25%</th>\n",
              "      <td>-1.773000</td>\n",
              "      <td>-1.708200</td>\n",
              "      <td>-1.574975</td>\n",
              "      <td>-2.413450</td>\n",
              "      <td>0.000000</td>\n",
              "    </tr>\n",
              "    <tr>\n",
              "      <th>50%</th>\n",
              "      <td>0.496180</td>\n",
              "      <td>2.319650</td>\n",
              "      <td>0.616630</td>\n",
              "      <td>-0.586650</td>\n",
              "      <td>0.000000</td>\n",
              "    </tr>\n",
              "    <tr>\n",
              "      <th>75%</th>\n",
              "      <td>2.821475</td>\n",
              "      <td>6.814625</td>\n",
              "      <td>3.179250</td>\n",
              "      <td>0.394810</td>\n",
              "      <td>1.000000</td>\n",
              "    </tr>\n",
              "    <tr>\n",
              "      <th>max</th>\n",
              "      <td>6.824800</td>\n",
              "      <td>12.951600</td>\n",
              "      <td>17.927400</td>\n",
              "      <td>2.449500</td>\n",
              "      <td>1.000000</td>\n",
              "    </tr>\n",
              "  </tbody>\n",
              "</table>\n",
              "</div>"
            ],
            "text/plain": [
              "                 0            1            2            3            4\n",
              "count  1372.000000  1372.000000  1372.000000  1372.000000  1372.000000\n",
              "mean      0.433735     1.922353     1.397627    -1.191657     0.444606\n",
              "std       2.842763     5.869047     4.310030     2.101013     0.497103\n",
              "min      -7.042100   -13.773100    -5.286100    -8.548200     0.000000\n",
              "25%      -1.773000    -1.708200    -1.574975    -2.413450     0.000000\n",
              "50%       0.496180     2.319650     0.616630    -0.586650     0.000000\n",
              "75%       2.821475     6.814625     3.179250     0.394810     1.000000\n",
              "max       6.824800    12.951600    17.927400     2.449500     1.000000"
            ]
          },
          "metadata": {
            "tags": []
          },
          "execution_count": 44
        }
      ]
    },
    {
      "cell_type": "code",
      "metadata": {
        "colab": {
          "base_uri": "https://localhost:8080/",
          "height": 281
        },
        "id": "qdFZtyy7iSSW",
        "outputId": "bba4e815-6620-4561-b2f1-97bf26e59ab4"
      },
      "source": [
        "#plotting histogram of all four feature and lavel colomn\n",
        "dataset.hist()\n",
        "plt.show()"
      ],
      "execution_count": null,
      "outputs": [
        {
          "output_type": "display_data",
          "data": {
            "image/png": "[encoded data removed]",
            "text/plain": [
              "<Figure size 432x288 with 6 Axes>"
            ]
          },
          "metadata": {
            "tags": []
          }
        }
      ]
    },
    {
      "cell_type": "code",
      "metadata": {
        "id": "_zhGIux8ikmm"
      },
      "source": [
        "#split the dataset into input and output variables\n",
        "X, Y = dataset.values[:, :-1], dataset.values[:, -1]"
      ],
      "execution_count": null,
      "outputs": []
    },
    {
      "cell_type": "code",
      "metadata": {
        "colab": {
          "base_uri": "https://localhost:8080/"
        },
        "id": "azurWS5aoUNt",
        "outputId": "be161b35-8e2f-4bd4-f9be-82c065dd11a3"
      },
      "source": [
        "print(X.shape)\n",
        "print(Y.shape)"
      ],
      "execution_count": null,
      "outputs": [
        {
          "output_type": "stream",
          "text": [
            "(1372, 4)\n",
            "(1372,)\n"
          ],
          "name": "stdout"
        }
      ]
    },
    {
      "cell_type": "markdown",
      "metadata": {
        "id": "VaEGqBazomzC"
      },
      "source": [
        "for now we  confirmed that the dataset has 5 variables (4 input and one output) and that the dataset has 1,372 rows of data."
      ]
    },
    {
      "cell_type": "code",
      "metadata": {
        "id": "FwcxWlWti3Cb"
      },
      "source": [
        "# split into train and test datasets\n",
        "X_train, X_test, Y_train, Y_test = train_test_split(X, Y, test_size=0.33)"
      ],
      "execution_count": null,
      "outputs": []
    },
    {
      "cell_type": "markdown",
      "metadata": {
        "id": "kEcMOrXRo-0w"
      },
      "source": [
        "# **2.buildings block of Neural Network** "
      ]
    },
    {
      "cell_type": "code",
      "metadata": {
        "id": "rK65kchtRxUP"
      },
      "source": [
        "#sigmoid function as activation function of neuron\n",
        "def sigmoid(z):\n",
        "  s=1/(1+np.exp(-z))\n",
        "  return s"
      ],
      "execution_count": null,
      "outputs": []
    },
    {
      "cell_type": "code",
      "metadata": {
        "id": "sDake4CYSPR5"
      },
      "source": [
        "\n",
        "def initialize_parameter(dim):\n",
        "    w=np.zeros((dim,1))\n",
        "    b=0\n",
        "    assert(w.shape==(dim,1))\n",
        "    assert(isinstance(b,float) or isinstance(b,int))\n",
        "    return w, b"
      ],
      "execution_count": null,
      "outputs": []
    },
    {
      "cell_type": "code",
      "metadata": {
        "id": "99fwQK9SShX8"
      },
      "source": [
        "#finding gradiend and cost function\n",
        "def propagate(w, b, X, Y):\n",
        "    m = X.shape[1]\n",
        "    # FORWARD PROPAGATION (FROM X TO COST)\n",
        "    A=sigmoid(np.dot(w.T,X)+b)\n",
        "    cost=(-1/m)*np.sum(Y*np.log(A)+(1-Y)*np.log(1-A))\n",
        "    # BACKWARD PROPAGATION (TO FIND GRAD)\n",
        "    dw=(1/m)*(np.dot(X,(A-Y).T))\n",
        "    db=(1/m)*(np.sum(A-Y))\n",
        "    assert(dw.shape==dw.shape)\n",
        "    cost = np.squeeze(np.array(cost))\n",
        "    assert(cost.shape==())\n",
        "    \n",
        "    grads = {\"dw\": dw,\n",
        "             \"db\": db}\n",
        "    \n",
        "    return grads, cost"
      ],
      "execution_count": null,
      "outputs": []
    },
    {
      "cell_type": "markdown",
      "metadata": {
        "id": "c0Fb2Z7vqTkj"
      },
      "source": [
        "# **3.Neural Network Learning(gradient descent algorithm) **"
      ]
    },
    {
      "cell_type": "code",
      "metadata": {
        "id": "LSj-JYKAS6r2"
      },
      "source": [
        "#  optimization\n",
        "#default no. of iteration 100\n",
        "#default learning_rate=.009\n",
        "def optimize(w, b, X, Y, num_iterations=100, learning_rate=0.009, print_cost=False):\n",
        "    w = copy.deepcopy(w)\n",
        "    b = copy.deepcopy(b)\n",
        "    costs = []\n",
        "    for i in range(num_iterations):\n",
        "        # Cost and gradient calculation \n",
        "        grads,cost=propagate(w,b,X,Y)\n",
        "        # Retrieve derivatives from grads\n",
        "        dw = grads[\"dw\"]\n",
        "        db = grads[\"db\"]\n",
        "        w=w-learning_rate*dw\n",
        "        b=b-learning_rate*db\n",
        "        # Record the costs\n",
        "        if i % 100 == 0:\n",
        "            costs.append(cost)\n",
        "            # Print the cost every 100 training iterations\n",
        "            if print_cost:\n",
        "                print (\"Cost after iteration %i: %f\" %(i, cost))\n",
        "    \n",
        "    params = {\"w\": w,\n",
        "              \"b\": b}\n",
        "    \n",
        "    grads = {\"dw\": dw,\n",
        "             \"db\": db}\n",
        "    \n",
        "    return params, grads, costs"
      ],
      "execution_count": null,
      "outputs": []
    },
    {
      "cell_type": "markdown",
      "metadata": {
        "id": "gxVNvo3qrPSj"
      },
      "source": [
        "# **4.Final Model and Make Predictions**"
      ]
    },
    {
      "cell_type": "code",
      "metadata": {
        "id": "pXDBm4mvTcdH"
      },
      "source": [
        "# make prediction\n",
        "\n",
        "def predict(w, b, X):\n",
        "    m = X.shape[1]\n",
        "    Y_prediction = np.zeros((1, m))\n",
        "    w = w.reshape(X.shape[0], 1)\n",
        "    A=sigmoid(np.dot(w.T,X)+b)\n",
        "    for i in range(A.shape[1]):\n",
        "        if A[0,i]>0.5:\n",
        "            Y_prediction[0,i]=1\n",
        "        else:\n",
        "            Y_prediction[0,i]=0\n",
        "    return Y_prediction"
      ],
      "execution_count": null,
      "outputs": []
    },
    {
      "cell_type": "code",
      "metadata": {
        "id": "Pd1L8Bv8UCTf"
      },
      "source": [
        "# final model\n",
        "\n",
        "def model(X_train, Y_train, X_test, Y_test, num_iterations=2000, learning_rate=0.5, print_cost=False):\n",
        "    dim=X_train.shape[0]\n",
        "    w,b=initialize_parameter(dim)\n",
        "    params,grads,costs=optimize(w,b,X_train,Y_train,num_iterations, learning_rate, print_cost)\n",
        "    w=params[\"w\"]\n",
        "    b=params[\"b\"]\n",
        "    Y_prediction_test=predict(w,b,X_test)\n",
        "    \n",
        "    Y_prediction_train=predict(w,b,X_train)\n",
        "    # Print train/test Errors\n",
        "    if print_cost:\n",
        "        print(\"train accuracy: {} %\".format(100 - np.mean(np.abs(Y_prediction_train - Y_train)) * 100))\n",
        "        print(\"test accuracy: {} %\".format(100 - np.mean(np.abs(Y_prediction_test - Y_test)) * 100))\n",
        "\n",
        "    \n",
        "    d = {\"costs\": costs,\n",
        "         \"Y_prediction_test\": Y_prediction_test, \n",
        "         \"Y_prediction_train\" : Y_prediction_train, \n",
        "         \"w\" : w, \n",
        "         \"b\" : b,\n",
        "         \"learning_rate\" : learning_rate,\n",
        "         \"num_iterations\": num_iterations}\n",
        "    \n",
        "    return d"
      ],
      "execution_count": null,
      "outputs": []
    },
    {
      "cell_type": "code",
      "metadata": {
        "colab": {
          "base_uri": "https://localhost:8080/"
        },
        "id": "0AlkTejOUWeZ",
        "outputId": "18f2361c-0fa7-4041-d73f-d7c5c6d8dd76"
      },
      "source": [
        "logistic_regression_model = model(X_train.T, Y_train.T, X_test.T, Y_test.T, num_iterations=10000, learning_rate=0.005, print_cost=True)"
      ],
      "execution_count": null,
      "outputs": [
        {
          "output_type": "stream",
          "text": [
            "Cost after iteration 0: 0.693147\n",
            "Cost after iteration 100: 0.349291\n",
            "Cost after iteration 200: 0.269321\n",
            "Cost after iteration 300: 0.229670\n",
            "Cost after iteration 400: 0.205188\n",
            "Cost after iteration 500: 0.188111\n",
            "Cost after iteration 600: 0.175262\n",
            "Cost after iteration 700: 0.165090\n",
            "Cost after iteration 800: 0.156739\n",
            "Cost after iteration 900: 0.149696\n",
            "Cost after iteration 1000: 0.143632\n",
            "Cost after iteration 1100: 0.138325\n",
            "Cost after iteration 1200: 0.133619\n",
            "Cost after iteration 1300: 0.129401\n",
            "Cost after iteration 1400: 0.125586\n",
            "Cost after iteration 1500: 0.122109\n",
            "Cost after iteration 1600: 0.118920\n",
            "Cost after iteration 1700: 0.115978\n",
            "Cost after iteration 1800: 0.113251\n",
            "Cost after iteration 1900: 0.110712\n",
            "Cost after iteration 2000: 0.108340\n",
            "Cost after iteration 2100: 0.106117\n",
            "Cost after iteration 2200: 0.104025\n",
            "Cost after iteration 2300: 0.102054\n",
            "Cost after iteration 2400: 0.100190\n",
            "Cost after iteration 2500: 0.098425\n",
            "Cost after iteration 2600: 0.096749\n",
            "Cost after iteration 2700: 0.095155\n",
            "Cost after iteration 2800: 0.093637\n",
            "Cost after iteration 2900: 0.092189\n",
            "Cost after iteration 3000: 0.090805\n",
            "Cost after iteration 3100: 0.089482\n",
            "Cost after iteration 3200: 0.088214\n",
            "Cost after iteration 3300: 0.086997\n",
            "Cost after iteration 3400: 0.085830\n",
            "Cost after iteration 3500: 0.084708\n",
            "Cost after iteration 3600: 0.083628\n",
            "Cost after iteration 3700: 0.082588\n",
            "Cost after iteration 3800: 0.081587\n",
            "Cost after iteration 3900: 0.080620\n",
            "Cost after iteration 4000: 0.079688\n",
            "Cost after iteration 4100: 0.078787\n",
            "Cost after iteration 4200: 0.077916\n",
            "Cost after iteration 4300: 0.077073\n",
            "Cost after iteration 4400: 0.076258\n",
            "Cost after iteration 4500: 0.075469\n",
            "Cost after iteration 4600: 0.074703\n",
            "Cost after iteration 4700: 0.073962\n",
            "Cost after iteration 4800: 0.073242\n",
            "Cost after iteration 4900: 0.072543\n",
            "Cost after iteration 5000: 0.071865\n",
            "Cost after iteration 5100: 0.071206\n",
            "Cost after iteration 5200: 0.070566\n",
            "Cost after iteration 5300: 0.069943\n",
            "Cost after iteration 5400: 0.069337\n",
            "Cost after iteration 5500: 0.068747\n",
            "Cost after iteration 5600: 0.068173\n",
            "Cost after iteration 5700: 0.067614\n",
            "Cost after iteration 5800: 0.067070\n",
            "Cost after iteration 5900: 0.066539\n",
            "Cost after iteration 6000: 0.066021\n",
            "Cost after iteration 6100: 0.065516\n",
            "Cost after iteration 6200: 0.065023\n",
            "Cost after iteration 6300: 0.064543\n",
            "Cost after iteration 6400: 0.064073\n",
            "Cost after iteration 6500: 0.063615\n",
            "Cost after iteration 6600: 0.063167\n",
            "Cost after iteration 6700: 0.062730\n",
            "Cost after iteration 6800: 0.062302\n",
            "Cost after iteration 6900: 0.061884\n",
            "Cost after iteration 7000: 0.061475\n",
            "Cost after iteration 7100: 0.061075\n",
            "Cost after iteration 7200: 0.060684\n",
            "Cost after iteration 7300: 0.060301\n",
            "Cost after iteration 7400: 0.059927\n",
            "Cost after iteration 7500: 0.059560\n",
            "Cost after iteration 7600: 0.059200\n",
            "Cost after iteration 7700: 0.058848\n",
            "Cost after iteration 7800: 0.058503\n",
            "Cost after iteration 7900: 0.058165\n",
            "Cost after iteration 8000: 0.057834\n",
            "Cost after iteration 8100: 0.057509\n",
            "Cost after iteration 8200: 0.057190\n",
            "Cost after iteration 8300: 0.056878\n",
            "Cost after iteration 8400: 0.056572\n",
            "Cost after iteration 8500: 0.056271\n",
            "Cost after iteration 8600: 0.055976\n",
            "Cost after iteration 8700: 0.055686\n",
            "Cost after iteration 8800: 0.055402\n",
            "Cost after iteration 8900: 0.055123\n",
            "Cost after iteration 9000: 0.054849\n",
            "Cost after iteration 9100: 0.054580\n",
            "Cost after iteration 9200: 0.054315\n",
            "Cost after iteration 9300: 0.054055\n",
            "Cost after iteration 9400: 0.053800\n",
            "Cost after iteration 9500: 0.053549\n",
            "Cost after iteration 9600: 0.053302\n",
            "Cost after iteration 9700: 0.053060\n",
            "Cost after iteration 9800: 0.052821\n",
            "Cost after iteration 9900: 0.052587\n",
            "train accuracy: 98.5854189336235 %\n",
            "test accuracy: 99.33774834437087 %\n"
          ],
          "name": "stdout"
        }
      ]
    },
    {
      "cell_type": "markdown",
      "metadata": {
        "id": "0EdCLqO3r9RS"
      },
      "source": [
        "# **5.Model performance Analysis with different learning parameters**"
      ]
    },
    {
      "cell_type": "code",
      "metadata": {
        "id": "JdiA3_nbdo_V"
      },
      "source": [
        "# Plot learning curve (with costs)\n",
        "costs = np.squeeze(logistic_regression_model['costs'])\n",
        "plt.plot(costs)\n",
        "plt.ylabel('cost')\n",
        "plt.xlabel('iterations (per hundreds)')\n",
        "plt.title(\"Learning rate =\" + str(logistic_regression_model[\"learning_rate\"]))\n",
        "plt.show()"
      ],
      "execution_count": null,
      "outputs": []
    },
    {
      "cell_type": "code",
      "metadata": {
        "colab": {
          "background_save": true,
          "base_uri": "https://localhost:8080/",
          "height": 490
        },
        "id": "uYWM15uVdr0l",
        "outputId": "1cc48eed-3382-489c-dd03-2a23725fea1b"
      },
      "source": [
        "learning_rates = [0.01, 0.001, 0.0001]\n",
        "models = {}\n",
        "\n",
        "for lr in learning_rates:\n",
        "    print (\"Training a model with learning rate: \" + str(lr))\n",
        "    models[str(lr)] = model(X_train.T, Y_train.T, X_test.T, Y_test.T, num_iterations=1500, learning_rate=lr, print_cost=False)\n",
        "    print ('\\n' + \"-------------------------------------------------------\" + '\\n')\n",
        "\n",
        "for lr in learning_rates:\n",
        "    plt.plot(np.squeeze(models[str(lr)][\"costs\"]), label=str(models[str(lr)][\"learning_rate\"]))\n",
        "\n",
        "plt.ylabel('cost')\n",
        "plt.xlabel('iterations (hundreds)')\n",
        "\n",
        "legend = plt.legend(loc='upper center', shadow=True)\n",
        "frame = legend.get_frame()\n",
        "frame.set_facecolor('0.90')\n",
        "plt.show()"
      ],
      "execution_count": null,
      "outputs": [
        {
          "output_type": "stream",
          "text": [
            "Training a model with learning rate: 0.01\n",
            "\n",
            "-------------------------------------------------------\n",
            "\n",
            "Training a model with learning rate: 0.001\n",
            "\n",
            "-------------------------------------------------------\n",
            "\n",
            "Training a model with learning rate: 0.0001\n",
            "\n",
            "-------------------------------------------------------\n",
            "\n"
          ],
          "name": "stdout"
        },
        {
          "output_type": "display_data",
          "data": {
            "image/png": "[encoded data removed]",
            "text/plain": [
              "<Figure size 432x288 with 1 Axes>"
            ]
          },
          "metadata": {
            "tags": []
          }
        }
      ]
    }
  ]
}